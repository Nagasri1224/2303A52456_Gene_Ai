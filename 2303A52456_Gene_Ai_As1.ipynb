{
  "nbformat": 4,
  "nbformat_minor": 0,
  "metadata": {
    "colab": {
      "provenance": [],
      "authorship_tag": "ABX9TyMiyeSeIUlikRssdcBgI5AP",
      "include_colab_link": true
    },
    "kernelspec": {
      "name": "python3",
      "display_name": "Python 3"
    },
    "language_info": {
      "name": "python"
    }
  },
  "cells": [
    {
      "cell_type": "markdown",
      "metadata": {
        "id": "view-in-github",
        "colab_type": "text"
      },
      "source": [
        "<a href=\"https://colab.research.google.com/github/Nagasri1224/2303A52456_Gene_Ai/blob/main/2303A52456_Gene_Ai_As1.ipynb\" target=\"_parent\"><img src=\"https://colab.research.google.com/assets/colab-badge.svg\" alt=\"Open In Colab\"/></a>"
      ]
    },
    {
      "cell_type": "code",
      "execution_count": 1,
      "metadata": {
        "id": "msG3rKPtYn-O"
      },
      "outputs": [],
      "source": [
        "ya=[10,20,30,40,50]"
      ]
    },
    {
      "cell_type": "code",
      "source": [
        "yp=[10.2,20.5,30.3,40.8,50.6]"
      ],
      "metadata": {
        "id": "S9N9uF32YvJP"
      },
      "execution_count": 2,
      "outputs": []
    },
    {
      "cell_type": "code",
      "source": [
        "sum=0\n",
        "for i in range(len(ya)):\n",
        "    sum=sum+(ya[i]-yp[i])**2"
      ],
      "metadata": {
        "id": "rfAOVYdcY1rF"
      },
      "execution_count": 4,
      "outputs": []
    },
    {
      "cell_type": "code",
      "source": [
        "sum/len(ya)"
      ],
      "metadata": {
        "colab": {
          "base_uri": "https://localhost:8080/"
        },
        "id": "feMyFeAcY_Da",
        "outputId": "15301a9a-28b3-436f-cee6-008164c113b8"
      },
      "execution_count": 5,
      "outputs": [
        {
          "output_type": "execute_result",
          "data": {
            "text/plain": [
              "0.27599999999999947"
            ]
          },
          "metadata": {},
          "execution_count": 5
        }
      ]
    },
    {
      "cell_type": "code",
      "source": [
        "import numpy as np"
      ],
      "metadata": {
        "id": "a4uTJxgxZTba"
      },
      "execution_count": 6,
      "outputs": []
    },
    {
      "cell_type": "code",
      "source": [
        "sum=0\n",
        "for i in range(len(ya)):\n",
        "  sum=sum+np.abs((ya[i]-yp[i]))"
      ],
      "metadata": {
        "id": "ylw2MuthZW5N"
      },
      "execution_count": 7,
      "outputs": []
    },
    {
      "cell_type": "code",
      "source": [
        "sum/len(ya)"
      ],
      "metadata": {
        "colab": {
          "base_uri": "https://localhost:8080/"
        },
        "id": "Rtr9V_epZpmg",
        "outputId": "85793473-da03-4426-8bf1-d6e8661ffea2"
      },
      "execution_count": 8,
      "outputs": [
        {
          "output_type": "execute_result",
          "data": {
            "text/plain": [
              "0.4799999999999997"
            ]
          },
          "metadata": {},
          "execution_count": 8
        }
      ]
    },
    {
      "cell_type": "code",
      "source": [
        "sum=0\n",
        "for i in range(len(ya)):\n",
        "  sum=sum+(ya[i]-yp[i])**2"
      ],
      "metadata": {
        "id": "PG4koc2zZtrj"
      },
      "execution_count": 9,
      "outputs": []
    },
    {
      "cell_type": "code",
      "source": [
        "np.sqrt((sum/len(ya)))"
      ],
      "metadata": {
        "colab": {
          "base_uri": "https://localhost:8080/"
        },
        "id": "S7vpzU06aBrp",
        "outputId": "d9aa6953-a1c6-4577-86cb-dff25176ead1"
      },
      "execution_count": 10,
      "outputs": [
        {
          "output_type": "execute_result",
          "data": {
            "text/plain": [
              "0.5253570214625474"
            ]
          },
          "metadata": {},
          "execution_count": 10
        }
      ]
    },
    {
      "cell_type": "code",
      "source": [
        "from sklearn.metrics import mean_squared_error,mean_absolute_error,root_mean_squared_error\n",
        "print(mean_squared_error(ya,yp))\n",
        "print(mean_absolute_error(ya,yp))\n",
        "print(root_mean_squared_error(ya,yp))"
      ],
      "metadata": {
        "colab": {
          "base_uri": "https://localhost:8080/"
        },
        "id": "85mt4hIlaJyg",
        "outputId": "6da97d90-5623-4b7b-e1f0-d526759b6b9e"
      },
      "execution_count": 11,
      "outputs": [
        {
          "output_type": "stream",
          "name": "stdout",
          "text": [
            "0.27599999999999947\n",
            "0.4799999999999997\n",
            "0.5253570214625474\n"
          ]
        }
      ]
    },
    {
      "cell_type": "code",
      "source": [
        "ya1=[0,0,0,0,0,1,1,1,1,1,1,2,2,2,2,2]\n",
        "yp1=[0,0,1,1,2,2,0,1,1,1,2,0,2,1,1,2]"
      ],
      "metadata": {
        "id": "7iDxaA9aawLj"
      },
      "execution_count": 13,
      "outputs": []
    },
    {
      "cell_type": "code",
      "source": [
        "count=0\n",
        "for i in range(len(ya1)):\n",
        "  if(ya1[i]==yp1[i]):\n",
        "    count=count+1"
      ],
      "metadata": {
        "id": "kkswhVTBbF16"
      },
      "execution_count": 14,
      "outputs": []
    },
    {
      "cell_type": "code",
      "source": [
        "(count/len(ya1))*100"
      ],
      "metadata": {
        "colab": {
          "base_uri": "https://localhost:8080/"
        },
        "id": "l0_5-pOTbS2U",
        "outputId": "5b57b2cf-125d-4ea3-b212-2154d27d1d38"
      },
      "execution_count": 15,
      "outputs": [
        {
          "output_type": "execute_result",
          "data": {
            "text/plain": [
              "43.75"
            ]
          },
          "metadata": {},
          "execution_count": 15
        }
      ]
    },
    {
      "cell_type": "code",
      "source": [
        "from sklearn.metrics import accuracy_score\n",
        "print(accuracy_score(ya1,yp1))"
      ],
      "metadata": {
        "colab": {
          "base_uri": "https://localhost:8080/"
        },
        "id": "MH93mid5bZAl",
        "outputId": "4f2839f1-920a-497b-ead1-d50de5562821"
      },
      "execution_count": 17,
      "outputs": [
        {
          "output_type": "stream",
          "name": "stdout",
          "text": [
            "0.4375\n"
          ]
        }
      ]
    },
    {
      "cell_type": "code",
      "source": [
        "A=[[0,0,0],[0,0,0],[0,0,0]]"
      ],
      "metadata": {
        "id": "TEjD3vr-bpOZ"
      },
      "execution_count": 18,
      "outputs": []
    },
    {
      "cell_type": "code",
      "source": [
        "A=np.array(A)"
      ],
      "metadata": {
        "id": "4OojNADdbwCJ"
      },
      "execution_count": 19,
      "outputs": []
    },
    {
      "cell_type": "code",
      "source": [
        "for i in range(len(ya1)):\n",
        "  if(ya1[i]==yp1[i]):\n",
        "    A[ya1[i]][yp1[i]]=A[ya1[i]][yp1[i]]+1\n",
        "\n",
        "  else:\n",
        "    A[ya1[i]][yp1[i]]=A[ya1[i]][yp1[i]]+1\n",
        ""
      ],
      "metadata": {
        "id": "rMCgLknLb3If"
      },
      "execution_count": 20,
      "outputs": []
    },
    {
      "cell_type": "code",
      "source": [
        "A"
      ],
      "metadata": {
        "colab": {
          "base_uri": "https://localhost:8080/"
        },
        "id": "xVclnEfDcPPi",
        "outputId": "31e17490-e750-4460-b8b0-941510c25c13"
      },
      "execution_count": 21,
      "outputs": [
        {
          "output_type": "execute_result",
          "data": {
            "text/plain": [
              "array([[2, 2, 1],\n",
              "       [1, 3, 2],\n",
              "       [1, 2, 2]])"
            ]
          },
          "metadata": {},
          "execution_count": 21
        }
      ]
    },
    {
      "cell_type": "code",
      "source": [
        "from sklearn.metrics import confusion_matrix\n",
        "print(confusion_matrix(ya1,yp1))"
      ],
      "metadata": {
        "colab": {
          "base_uri": "https://localhost:8080/"
        },
        "id": "p6mKekz6cRrf",
        "outputId": "e4fb3f5c-7483-45ee-e147-11cf9feab736"
      },
      "execution_count": 22,
      "outputs": [
        {
          "output_type": "stream",
          "name": "stdout",
          "text": [
            "[[2 2 1]\n",
            " [1 3 2]\n",
            " [1 2 2]]\n"
          ]
        }
      ]
    }
  ]
}